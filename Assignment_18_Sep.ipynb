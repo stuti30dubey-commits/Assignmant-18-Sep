{
  "nbformat": 4,
  "nbformat_minor": 0,
  "metadata": {
    "colab": {
      "provenance": []
    },
    "kernelspec": {
      "name": "python3",
      "display_name": "Python 3"
    },
    "language_info": {
      "name": "python"
    }
  },
  "cells": [
    {
      "cell_type": "code",
      "execution_count": null,
      "metadata": {
        "id": "Cx9R-_hm1N0H"
      },
      "outputs": [],
      "source": []
    },
    {
      "cell_type": "markdown",
      "source": [
        "#Theory Part"
      ],
      "metadata": {
        "id": "qsFnnrBQ1cP1"
      }
    },
    {
      "cell_type": "markdown",
      "source": [
        "1. What is Python, and why is it popular?\n",
        "\n",
        "-Python is high-level,interpreted and general-purpose programming language.It is popular because it is simple to learn,has readable syntax,supports multiple programming paradigms and provides vast libraies and framework for web development"
      ],
      "metadata": {
        "id": "XLtGpnH915Mg"
      }
    },
    {
      "cell_type": "markdown",
      "source": [
        "2. What is interpreter in Python?\n",
        "\n",
        "-An interpreter in Python is a program that reads and executes Python code line by line. It translates the written code into machine-understandable instructions. Python uses an interpreter instead of a compiler, which makes debugging easier but may be slightly slower."
      ],
      "metadata": {
        "id": "SB62ERd_-t8d"
      }
    },
    {
      "cell_type": "markdown",
      "source": [
        "3. What are pre-defined keywords in Python?\n",
        "\n",
        "Pre-defined keywords are reserved words in Python that have special meaning and cannot be used as variable names. Examples include: if, else, while, for, break, class, def, True, False, None, etc."
      ],
      "metadata": {
        "id": "B8IAF3l3NHEm"
      }
    },
    {
      "cell_type": "markdown",
      "source": [
        "4. Can keywords be used as variable names?\n",
        "\n",
        "No, keywords cannot be used as variable names in Python because they are reserved for specific functionalities in the language. For example, you cannot create a variable named for or if."
      ],
      "metadata": {
        "id": "5jhLNlp7NT8o"
      }
    },
    {
      "cell_type": "markdown",
      "source": [
        "5. What is mutability in Python?\n",
        "\n",
        "Mutability refers to whether the value of an object can be changed after it is created.\n",
        "•\tMutable objects= Can be modified (e.g= lists, dictionaries, sets).\n",
        "•\tImmutable objects= Cannot be modified (e.g=strings, tuples, numbers)."
      ],
      "metadata": {
        "id": "AhJx3175Nrhi"
      }
    },
    {
      "cell_type": "markdown",
      "source": [
        "6. Why are lists mutable, but tuples are immutable?\n",
        "\n",
        "•\tLists are mutable because they are designed for dynamic storage where elements can be added, removed, or changed.\n",
        "\n",
        "•\tTuples are immutable because they are meant for fixed collections of items where data should not change after creation."
      ],
      "metadata": {
        "id": "3gdIUVppOvIO"
      }
    },
    {
      "cell_type": "markdown",
      "source": [
        "7. What is the difference between == and is operators in Python?\n",
        "•\t== (Equality operator): Checks whether the values of two objects are the same.\n",
        "•\tis (Identity operator): Checks whether two objects refer to the same memory location"
      ],
      "metadata": {
        "id": "JwQZbAF7PlYM"
      }
    },
    {
      "cell_type": "code",
      "source": [
        "a = [1, 2, 3]\n",
        "b = [1, 2, 3]\n",
        "print(a == b)  # True (values are equal)\n",
        "print(a is b)  # False (different memory locations)"
      ],
      "metadata": {
        "colab": {
          "base_uri": "https://localhost:8080/"
        },
        "id": "v2aK4llbP0ti",
        "outputId": "b8598969-2a33-439a-aeb9-1e57e91a7064"
      },
      "execution_count": null,
      "outputs": [
        {
          "output_type": "stream",
          "name": "stdout",
          "text": [
            "True\n",
            "False\n"
          ]
        }
      ]
    },
    {
      "cell_type": "markdown",
      "source": [
        "8. What are logical operators in Python?\n",
        "\n",
        "Logical operators are used to combine conditional statements\n",
        "\n",
        "•and - Returns True if both conditions are true.\n",
        "\n",
        "•or - Returns True if at least one condition is true.\n",
        "\n",
        "•not - Reverses the condition (True becomes False, False becomes True)."
      ],
      "metadata": {
        "id": "1DZ3GCWLP9NP"
      }
    },
    {
      "cell_type": "markdown",
      "source": [
        "9. What is type casting in Python?\n",
        "Type casting means converting one data type into another\n",
        "\n",
        "•Implicit casting: Python automatically converts one type to another (e.g., int to float.\n",
        "\n",
        "•Explicit casting: Programmer manually converts type using functions like int(), float(), str()."
      ],
      "metadata": {
        "id": "Blzc4GHfRklz"
      }
    },
    {
      "cell_type": "markdown",
      "source": [
        "10. What is the difference between implicit and explicit type casting?\n",
        "\n",
        "•Implicit casting (Type Conversion): Done automatically by Python without user involvement. Example: 3 + 4.5 → 7.5 (int converted to float).\n",
        "\n",
        "•Explicit casting (Type Casting): Done manually using functions. Example: int(3.7) → 3."
      ],
      "metadata": {
        "id": "XUEDXnlISBSD"
      }
    },
    {
      "cell_type": "markdown",
      "source": [
        "11. What is the purpose of conditional statements in Python?\n",
        "\n",
        "Conditional statements are used to make decisions in a program. They allow the execution of certain blocks of code only if a condition is true. Statements include: if, elif, and else."
      ],
      "metadata": {
        "id": "Qtele5F9SUkt"
      }
    },
    {
      "cell_type": "markdown",
      "source": [
        "12. How does the elif statement work?\n",
        "\n",
        "The elif statement is used when multiple conditions need to be checked. It stands for “else if”. Python checks conditions in order, and once one condition is true, the corresponding block executes, and the rest are skipped"
      ],
      "metadata": {
        "id": "1flhvqQISxqy"
      }
    },
    {
      "cell_type": "markdown",
      "source": [
        "13. What is the difference between for and while loops?\n",
        "\n",
        "•for loop: Used when the number of iterations is known (iterates over a sequence like list, tuple, or range)\n",
        "\n",
        "•while loop: Used when the number of iterations is not fixed and depends on a condition being true"
      ],
      "metadata": {
        "id": "rXfGuzTlTMDp"
      }
    },
    {
      "cell_type": "markdown",
      "source": [
        "14. Describe a scenario where a while loop is more suitable than a for loop.\n",
        "\n",
        "A while loop is better when the number of iterations is unknown and depends on a condition.\n",
        "\n",
        "Example: Continuously asking a user for input until they enter the correct password."
      ],
      "metadata": {
        "id": "fE6ftTDgTcwR"
      }
    },
    {
      "cell_type": "markdown",
      "source": [
        "# Practical Part"
      ],
      "metadata": {
        "id": "a4aFlGVXTp4r"
      }
    },
    {
      "cell_type": "code",
      "source": [
        "1# Write a Python program to print \"Hello, World!\"\n",
        "\n",
        "# string\n",
        "message = \"Hello, World!\"\n",
        "print(message)\n",
        "type(message)"
      ],
      "metadata": {
        "colab": {
          "base_uri": "https://localhost:8080/"
        },
        "id": "lHK1A3FU-rL_",
        "outputId": "8fb564a7-6bb5-4134-e2eb-bb79ecb953ac"
      },
      "execution_count": null,
      "outputs": [
        {
          "output_type": "stream",
          "name": "stdout",
          "text": [
            "Hello, World!\n"
          ]
        },
        {
          "output_type": "execute_result",
          "data": {
            "text/plain": [
              "str"
            ]
          },
          "metadata": {},
          "execution_count": 9
        }
      ]
    },
    {
      "cell_type": "code",
      "source": [
        "2# Write a Python program that displays your name and age8\n",
        "\n",
        "name = \"Stuti\"\n",
        "name"
      ],
      "metadata": {
        "colab": {
          "base_uri": "https://localhost:8080/",
          "height": 36
        },
        "id": "Q_IFeAbK_OKt",
        "outputId": "23250232-2287-4fe6-ee69-c212b143aae3"
      },
      "execution_count": null,
      "outputs": [
        {
          "output_type": "execute_result",
          "data": {
            "text/plain": [
              "'Stuti'"
            ],
            "application/vnd.google.colaboratory.intrinsic+json": {
              "type": "string"
            }
          },
          "metadata": {},
          "execution_count": 12
        }
      ]
    },
    {
      "cell_type": "code",
      "source": [
        "# int\n",
        "age = 22\n",
        "print(age)\n",
        "type(age)"
      ],
      "metadata": {
        "colab": {
          "base_uri": "https://localhost:8080/"
        },
        "id": "od3wah4IAHTk",
        "outputId": "ebcf6bbe-3b05-470d-a010-4eab4b9c6fee"
      },
      "execution_count": null,
      "outputs": [
        {
          "output_type": "stream",
          "name": "stdout",
          "text": [
            "22\n"
          ]
        },
        {
          "output_type": "execute_result",
          "data": {
            "text/plain": [
              "int"
            ]
          },
          "metadata": {},
          "execution_count": 13
        }
      ]
    },
    {
      "cell_type": "code",
      "source": [
        "3# Write code to print all the pre-defined keywords in Python using the keyword library\n",
        "\n",
        "import keyword\n",
        "# Print all predefined keywords in Python\n",
        "print(keyword.kwlist)"
      ],
      "metadata": {
        "colab": {
          "base_uri": "https://localhost:8080/"
        },
        "id": "YyB8tQuOAa48",
        "outputId": "cf89c06b-f589-41e9-ee5c-5d50404ca82c"
      },
      "execution_count": null,
      "outputs": [
        {
          "output_type": "stream",
          "name": "stdout",
          "text": [
            "['False', 'None', 'True', 'and', 'as', 'assert', 'async', 'await', 'break', 'class', 'continue', 'def', 'del', 'elif', 'else', 'except', 'finally', 'for', 'from', 'global', 'if', 'import', 'in', 'is', 'lambda', 'nonlocal', 'not', 'or', 'pass', 'raise', 'return', 'try', 'while', 'with', 'yield']\n"
          ]
        }
      ]
    },
    {
      "cell_type": "code",
      "source": [
        "4# Write a program that checks if a given word is a python keyword\n",
        "\n",
        "import keyword\n",
        "\n",
        "word = input(\"Enter a word to check: \")\n",
        "\n",
        "if keyword.iskeyword(word):\n",
        "  print(f\"'{word}' is a Python keyword.\")\n",
        "else:\n",
        "  print(f\"'{word}' is not a Python keyword.\")\n"
      ],
      "metadata": {
        "id": "jlS_gcOqoha8"
      },
      "execution_count": null,
      "outputs": []
    },
    {
      "cell_type": "code",
      "source": [
        "5# Create a list and tuple in Python, and demonstrate how attemting to change an element works differently for each\n",
        "\n",
        "# List (mutable)\n",
        "my_list = [1,2,3]\n",
        "my_list[0] = 10\n",
        "print(\"Modified List:\", my_list)\n",
        "\n",
        "# Tuple (immutable)\n",
        "my_tuple = (1, 2, 3)\n",
        "try:\n",
        "    my_tuple[0] = 10\n",
        "except TypeError:\n",
        "    print(\"Cannot modify tuple\")"
      ],
      "metadata": {
        "id": "Uo2Sv4sazf9P"
      },
      "execution_count": null,
      "outputs": []
    },
    {
      "cell_type": "code",
      "source": [
        "6# Write a function to demonstrate the behavior of mutuable and immutable arguments\n",
        "\n",
        "def modify_list(lst):\n",
        "    lst.append(100)\n",
        "\n",
        "def modify_number(num):\n",
        "    num += 10\n",
        "\n",
        "my_list = [1, 2, 3]\n",
        "my_num = 5\n",
        "\n",
        "modify_list(my_list)\n",
        "modify_number(my_num)\n",
        "\n",
        "print(\"List:\", my_list)  # List modified\n",
        "print(\"Number:\", my_num)  # Number not modifie"
      ],
      "metadata": {
        "id": "n9W7AAbX1FxN"
      },
      "execution_count": null,
      "outputs": []
    },
    {
      "cell_type": "code",
      "source": [
        "7# Write a program that performs basic arithmetic operation on two user-input numbers\n",
        "\n",
        "a = int(input(\"Enter first number: \"))\n",
        "b = int(input(\"Enter second number: \"))\n",
        "print(\"Addition:\", a + b)\n",
        "print(\"Subtraction:\", a - b)\n",
        "print(\"Multiplication:\", a * b)\n",
        "print(\"Division:\", a / b)\n"
      ],
      "metadata": {
        "id": "ouJtH0fF1iRk"
      },
      "execution_count": null,
      "outputs": []
    },
    {
      "cell_type": "markdown",
      "source": [
        "Enter first number: 1\n",
        "\n",
        "Enter second number: 2\n",
        "\n",
        "Addition: 3\n",
        "\n",
        "Subtraction: -1\n",
        "\n",
        "Multiplication: 2\n",
        "\n",
        "Division: 0.5\n"
      ],
      "metadata": {
        "id": "r4J-_1oT5k2F"
      }
    },
    {
      "cell_type": "code",
      "source": [
        "8# Write a program to demonstrate the use of logical operators\n",
        "\n",
        "a = 10\n",
        "b = 5\n",
        "print(a > 5 and b < 10)\n",
        "print(a > 15 or b < 10)"
      ],
      "metadata": {
        "id": "huhDALJM59Kl"
      },
      "execution_count": null,
      "outputs": []
    },
    {
      "cell_type": "code",
      "source": [
        "9# Write a program to convert user input from string to integer,float, and boolean types\n",
        "\n",
        "string_value = \"42\"\n",
        "int_value = int(string_value)\n",
        "float_value = float(string_value)\n",
        "bool_value = bool(string_value)"
      ],
      "metadata": {
        "id": "GAVpsoCG6s-h"
      },
      "execution_count": null,
      "outputs": []
    },
    {
      "cell_type": "markdown",
      "source": [
        "Enter a number: 3\n",
        "\n",
        "Integer: 3\n",
        "\n",
        "Float: 3.0\n",
        "\n",
        "Boolean: True\n"
      ],
      "metadata": {
        "id": "Z_3Ybe5vUaxJ"
      }
    },
    {
      "cell_type": "code",
      "source": [
        "10# Write code to demonstrate type casting with list elements\n",
        "\n",
        "str_list = ['1', '2', '3']\n",
        "int_list = [int(x) for x in str_list]\n",
        "print(\"Converted List:\", int_list)"
      ],
      "metadata": {
        "id": "IEvYzpVTUev-"
      },
      "execution_count": null,
      "outputs": []
    },
    {
      "cell_type": "markdown",
      "source": [
        "Converted List: [1, 2, 3]"
      ],
      "metadata": {
        "id": "Pj38_ektU-uS"
      }
    },
    {
      "cell_type": "code",
      "source": [
        "11# Write a program that checks if a number is positive,negative,or zero.\n",
        "\n",
        "num = int(input(\"Enter a number: \"))\n",
        "if num > 0:\n",
        "    print(\"Positive\")\n",
        "elif num < 0:\n",
        "    print(\"Negative\")\n",
        "else:\n",
        "    print(\"Zero\")"
      ],
      "metadata": {
        "id": "Z7_IZkKMVAEs"
      },
      "execution_count": null,
      "outputs": []
    },
    {
      "cell_type": "markdown",
      "source": [
        "Enter a number: 11\n",
        "\n",
        "Positive"
      ],
      "metadata": {
        "id": "bAvfX2JqVdZ3"
      }
    },
    {
      "cell_type": "code",
      "source": [
        "12# Write a for loop to print number from 1 to 10\n",
        "\n",
        "for i in range(1, 11):\n",
        "    print(i)\n",
        "\n",
        "1\n",
        "2\n",
        "3\n",
        "4\n",
        "5\n",
        "6\n",
        "7\n",
        "8\n",
        "9\n",
        "10"
      ],
      "metadata": {
        "id": "mwHetFqBViEF"
      },
      "execution_count": null,
      "outputs": []
    },
    {
      "cell_type": "code",
      "source": [
        "13# Write a program to find the sum of all even numbers between 1 and 50\n",
        "\n",
        "\n",
        "total = 0\n",
        "for i in range(2, 51, 2):\n",
        "    total += i\n",
        "print(\"Sum of even numbers:\", total)\n"
      ],
      "metadata": {
        "id": "pDtzxi-iVym4"
      },
      "execution_count": null,
      "outputs": []
    },
    {
      "cell_type": "markdown",
      "source": [
        "Sum of even numbers: 650"
      ],
      "metadata": {
        "id": "rmqCNdrrXFAh"
      }
    },
    {
      "cell_type": "code",
      "source": [
        "14# Write a program to reverse a string using a while loop\n",
        "\n",
        "s = input(\"Enter a string: \")\n",
        "i = len(s) - 1\n",
        "reversed_s = \"\"\n",
        "while i >= 0:\n",
        "    reversed_s += s[i]\n",
        "    i -= 1\n",
        "print(\"Reversed String:\", reversed_s)"
      ],
      "metadata": {
        "id": "JIke7hqwXIkT"
      },
      "execution_count": null,
      "outputs": []
    },
    {
      "cell_type": "markdown",
      "source": [
        "Enter a string: 1\n",
        "\n",
        "Reversed String: 1"
      ],
      "metadata": {
        "id": "EmUSFb5ZXhFf"
      }
    },
    {
      "cell_type": "code",
      "source": [
        "15# Write a python program to calculate the factorial of a number provided by the user using a while loop\n",
        "\n",
        "num = int(input(\"Enter a number: \"))\n",
        "fact = 1\n",
        "while num > 0:\n",
        "    fact *= num\n",
        "    num -= 1\n",
        "print(\"Factorial:\", fact)"
      ],
      "metadata": {
        "id": "ZZrfgZtmXjvN"
      },
      "execution_count": null,
      "outputs": []
    },
    {
      "cell_type": "markdown",
      "source": [
        "Enter a number: 3\n",
        "Factorial: 6"
      ],
      "metadata": {
        "id": "WRJM2nqCZpgW"
      }
    }
  ]
}